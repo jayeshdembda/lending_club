{
 "cells": [
  {
   "cell_type": "code",
   "execution_count": 1,
   "id": "637b56cc",
   "metadata": {},
   "outputs": [],
   "source": [
    "from pyspark.sql import SparkSession\n",
    "import getpass \n",
    "username=getpass.getuser()\n",
    "spark=SparkSession. \\\n",
    "    builder. \\\n",
    "    config('spark.ui.port','0'). \\\n",
    "    config(\"spark.sql.warehouse.dir\", f\"/user/itv009200/warehouse\"). \\\n",
    "    config('spark.shuffle.useOldFetchProtocol', 'true'). \\\n",
    "    enableHiveSupport(). \\\n",
    "    master('yarn'). \\\n",
    "    getOrCreate()"
   ]
  },
  {
   "cell_type": "code",
   "execution_count": 2,
   "id": "470da2c5",
   "metadata": {},
   "outputs": [],
   "source": [
    "loans_def_raw_df = spark.read \\\n",
    ".format(\"csv\") \\\n",
    ".option(\"header\",True) \\\n",
    ".option(\"inferSchema\", True) \\\n",
    ".load(\"/public/trendytech/lendingclubproject/raw/loans_defaulters_csv\")"
   ]
  },
  {
   "cell_type": "code",
   "execution_count": 3,
   "id": "6d51f2fa",
   "metadata": {},
   "outputs": [
    {
     "data": {
      "text/html": [
       "<table border='1'>\n",
       "<tr><th>member_id</th><th>delinq_2yrs</th><th>delinq_amnt</th><th>pub_rec</th><th>pub_rec_bankruptcies</th><th>inq_last_6mths</th><th>total_rec_late_fee</th><th>mths_since_last_delinq</th><th>mths_since_last_record</th></tr>\n",
       "<tr><td>9cb79aa7323e81be1...</td><td>2.0</td><td>0.0</td><td>0.0</td><td>0.0</td><td>0.0</td><td>0.0</td><td>11.0</td><td>null</td></tr>\n",
       "<tr><td>0dd2bbc517e3c8f9e...</td><td>0.0</td><td>0.0</td><td>1.0</td><td>1.0</td><td>3.0</td><td>0.0</td><td>null</td><td>115.0</td></tr>\n",
       "<tr><td>458458599d3df3bfc...</td><td>0.0</td><td>0.0</td><td>1.0</td><td>1.0</td><td>1.0</td><td>0.0</td><td>null</td><td>76.0</td></tr>\n",
       "<tr><td>05ea141ec28b5c7f7...</td><td>0.0</td><td>0.0</td><td>0.0</td><td>0.0</td><td>0.0</td><td>0.0</td><td>null</td><td>null</td></tr>\n",
       "<tr><td>aac68850fdac09fd0...</td><td>1.0</td><td>0.0</td><td>0.0</td><td>0.0</td><td>0.0</td><td>0.0</td><td>21.0</td><td>null</td></tr>\n",
       "<tr><td>3a423e4589e89f429...</td><td>0.0</td><td>0.0</td><td>0.0</td><td>0.0</td><td>0.0</td><td>0.0</td><td>null</td><td>null</td></tr>\n",
       "<tr><td>f1efcf7dfbfef21be...</td><td>0.0</td><td>0.0</td><td>0.0</td><td>0.0</td><td>1.0</td><td>0.0</td><td>null</td><td>null</td></tr>\n",
       "<tr><td>c89986155a070db2e...</td><td>1.0</td><td>0.0</td><td>0.0</td><td>0.0</td><td>1.0</td><td>15.0</td><td>5.0</td><td>null</td></tr>\n",
       "<tr><td>118dc629b6e134419...</td><td>0.0</td><td>0.0</td><td>0.0</td><td>0.0</td><td>0.0</td><td>0.0</td><td>null</td><td>null</td></tr>\n",
       "<tr><td>a86fa4b7493708333...</td><td>0.0</td><td>0.0</td><td>0.0</td><td>0.0</td><td>0.0</td><td>0.0</td><td>null</td><td>null</td></tr>\n",
       "<tr><td>6e8d94bf446e97025...</td><td>0.0</td><td>0.0</td><td>0.0</td><td>0.0</td><td>0.0</td><td>0.0</td><td>36.0</td><td>null</td></tr>\n",
       "<tr><td>3de585156dc6b73f6...</td><td>0.0</td><td>0.0</td><td>0.0</td><td>0.0</td><td>0.0</td><td>0.0</td><td>null</td><td>null</td></tr>\n",
       "<tr><td>e88945f86a96f8d71...</td><td>0.0</td><td>0.0</td><td>0.0</td><td>0.0</td><td>1.0</td><td>0.0</td><td>null</td><td>null</td></tr>\n",
       "<tr><td>42f73fd8a01f1c475...</td><td>0.0</td><td>0.0</td><td>0.0</td><td>0.0</td><td>0.0</td><td>0.0</td><td>46.0</td><td>null</td></tr>\n",
       "<tr><td>c680bca32456530e6...</td><td>0.0</td><td>0.0</td><td>0.0</td><td>0.0</td><td>0.0</td><td>0.0</td><td>null</td><td>null</td></tr>\n",
       "<tr><td>3c36e35bcc0379690...</td><td>0.0</td><td>0.0</td><td>0.0</td><td>0.0</td><td>0.0</td><td>0.0</td><td>null</td><td>null</td></tr>\n",
       "<tr><td>4e1c30a5dfe9f1e20...</td><td>0.0</td><td>0.0</td><td>0.0</td><td>0.0</td><td>1.0</td><td>34.68</td><td>null</td><td>null</td></tr>\n",
       "<tr><td>1eef79a0e79b72c7a...</td><td>1.0</td><td>0.0</td><td>0.0</td><td>0.0</td><td>0.0</td><td>0.0</td><td>21.0</td><td>null</td></tr>\n",
       "<tr><td>89d42771f79636d22...</td><td>0.0</td><td>0.0</td><td>0.0</td><td>0.0</td><td>0.0</td><td>0.0</td><td>null</td><td>null</td></tr>\n",
       "<tr><td>1dd1d1b51473d4993...</td><td>0.0</td><td>0.0</td><td>0.0</td><td>0.0</td><td>0.0</td><td>0.0</td><td>44.0</td><td>null</td></tr>\n",
       "</table>\n",
       "only showing top 20 rows\n"
      ],
      "text/plain": [
       "+--------------------+-----------+-----------+-------+--------------------+--------------+------------------+----------------------+----------------------+\n",
       "|           member_id|delinq_2yrs|delinq_amnt|pub_rec|pub_rec_bankruptcies|inq_last_6mths|total_rec_late_fee|mths_since_last_delinq|mths_since_last_record|\n",
       "+--------------------+-----------+-----------+-------+--------------------+--------------+------------------+----------------------+----------------------+\n",
       "|9cb79aa7323e81be1...|        2.0|        0.0|    0.0|                 0.0|           0.0|               0.0|                  11.0|                  null|\n",
       "|0dd2bbc517e3c8f9e...|        0.0|        0.0|    1.0|                 1.0|           3.0|               0.0|                  null|                 115.0|\n",
       "|458458599d3df3bfc...|        0.0|        0.0|    1.0|                 1.0|           1.0|               0.0|                  null|                  76.0|\n",
       "|05ea141ec28b5c7f7...|        0.0|        0.0|    0.0|                 0.0|           0.0|               0.0|                  null|                  null|\n",
       "|aac68850fdac09fd0...|        1.0|        0.0|    0.0|                 0.0|           0.0|               0.0|                  21.0|                  null|\n",
       "|3a423e4589e89f429...|        0.0|        0.0|    0.0|                 0.0|           0.0|               0.0|                  null|                  null|\n",
       "|f1efcf7dfbfef21be...|        0.0|        0.0|    0.0|                 0.0|           1.0|               0.0|                  null|                  null|\n",
       "|c89986155a070db2e...|        1.0|        0.0|    0.0|                 0.0|           1.0|              15.0|                   5.0|                  null|\n",
       "|118dc629b6e134419...|        0.0|        0.0|    0.0|                 0.0|           0.0|               0.0|                  null|                  null|\n",
       "|a86fa4b7493708333...|        0.0|        0.0|    0.0|                 0.0|           0.0|               0.0|                  null|                  null|\n",
       "|6e8d94bf446e97025...|        0.0|        0.0|    0.0|                 0.0|           0.0|               0.0|                  36.0|                  null|\n",
       "|3de585156dc6b73f6...|        0.0|        0.0|    0.0|                 0.0|           0.0|               0.0|                  null|                  null|\n",
       "|e88945f86a96f8d71...|        0.0|        0.0|    0.0|                 0.0|           1.0|               0.0|                  null|                  null|\n",
       "|42f73fd8a01f1c475...|        0.0|        0.0|    0.0|                 0.0|           0.0|               0.0|                  46.0|                  null|\n",
       "|c680bca32456530e6...|        0.0|        0.0|    0.0|                 0.0|           0.0|               0.0|                  null|                  null|\n",
       "|3c36e35bcc0379690...|        0.0|        0.0|    0.0|                 0.0|           0.0|               0.0|                  null|                  null|\n",
       "|4e1c30a5dfe9f1e20...|        0.0|        0.0|    0.0|                 0.0|           1.0|             34.68|                  null|                  null|\n",
       "|1eef79a0e79b72c7a...|        1.0|        0.0|    0.0|                 0.0|           0.0|               0.0|                  21.0|                  null|\n",
       "|89d42771f79636d22...|        0.0|        0.0|    0.0|                 0.0|           0.0|               0.0|                  null|                  null|\n",
       "|1dd1d1b51473d4993...|        0.0|        0.0|    0.0|                 0.0|           0.0|               0.0|                  44.0|                  null|\n",
       "+--------------------+-----------+-----------+-------+--------------------+--------------+------------------+----------------------+----------------------+\n",
       "only showing top 20 rows"
      ]
     },
     "execution_count": 3,
     "metadata": {},
     "output_type": "execute_result"
    }
   ],
   "source": [
    "loans_def_raw_df"
   ]
  },
  {
   "cell_type": "code",
   "execution_count": 4,
   "id": "e304c0b8",
   "metadata": {},
   "outputs": [
    {
     "name": "stdout",
     "output_type": "stream",
     "text": [
      "root\n",
      " |-- member_id: string (nullable = true)\n",
      " |-- delinq_2yrs: string (nullable = true)\n",
      " |-- delinq_amnt: double (nullable = true)\n",
      " |-- pub_rec: string (nullable = true)\n",
      " |-- pub_rec_bankruptcies: double (nullable = true)\n",
      " |-- inq_last_6mths: string (nullable = true)\n",
      " |-- total_rec_late_fee: string (nullable = true)\n",
      " |-- mths_since_last_delinq: string (nullable = true)\n",
      " |-- mths_since_last_record: string (nullable = true)\n",
      "\n"
     ]
    }
   ],
   "source": [
    "loans_def_raw_df.printSchema()"
   ]
  },
  {
   "cell_type": "code",
   "execution_count": 5,
   "id": "f3f3749d",
   "metadata": {},
   "outputs": [],
   "source": [
    "loans_def_raw_df.createOrReplaceTempView(\"loan_defaulters\")"
   ]
  },
  {
   "cell_type": "code",
   "execution_count": 6,
   "id": "5827c130",
   "metadata": {},
   "outputs": [
    {
     "data": {
      "text/html": [
       "<table border='1'>\n",
       "<tr><th>delinq_2yrs</th></tr>\n",
       "<tr><td>1.0</td></tr>\n",
       "<tr><td>I bike to work on...</td></tr>\n",
       "<tr><td>271 monthly payme...</td></tr>\n",
       "<tr><td>183xx</td></tr>\n",
       "<tr><td>VISA and AMEX cre...</td></tr>\n",
       "<tr><td>etc. and I feel t...</td></tr>\n",
       "<tr><td>AZ</td></tr>\n",
       "<tr><td>017xx</td></tr>\n",
       "<tr><td>923xx</td></tr>\n",
       "<tr><td>446xx</td></tr>\n",
       "<tr><td>who is a financia...</td></tr>\n",
       "<tr><td>and all of that c...</td></tr>\n",
       "<tr><td>LA</td></tr>\n",
       "<tr><td>24.66</td></tr>\n",
       "<tr><td>and the removal o...</td></tr>\n",
       "<tr><td>I would like to c...</td></tr>\n",
       "<tr><td>12.24</td></tr>\n",
       "<tr><td>22.0</td></tr>\n",
       "<tr><td>so most of my inc...</td></tr>\n",
       "<tr><td>I would like to p...</td></tr>\n",
       "</table>\n",
       "only showing top 20 rows\n"
      ],
      "text/plain": [
       "+--------------------+\n",
       "|         delinq_2yrs|\n",
       "+--------------------+\n",
       "|                 1.0|\n",
       "|I bike to work on...|\n",
       "|271 monthly payme...|\n",
       "|               183xx|\n",
       "|VISA and AMEX cre...|\n",
       "|etc. and I feel t...|\n",
       "|                  AZ|\n",
       "|               017xx|\n",
       "|               923xx|\n",
       "|               446xx|\n",
       "|who is a financia...|\n",
       "|and all of that c...|\n",
       "|                  LA|\n",
       "|               24.66|\n",
       "|and the removal o...|\n",
       "|I would like to c...|\n",
       "|               12.24|\n",
       "|                22.0|\n",
       "|so most of my inc...|\n",
       "|I would like to p...|\n",
       "+--------------------+\n",
       "only showing top 20 rows"
      ]
     },
     "execution_count": 6,
     "metadata": {},
     "output_type": "execute_result"
    }
   ],
   "source": [
    "spark.sql(\"select distinct(delinq_2yrs) from loan_defaulters\")"
   ]
  },
  {
   "cell_type": "code",
   "execution_count": 7,
   "id": "e4e17be5",
   "metadata": {},
   "outputs": [
    {
     "name": "stdout",
     "output_type": "stream",
     "text": [
      "+------------------+-------+\n",
      "|       delinq_2yrs|  total|\n",
      "+------------------+-------+\n",
      "|               0.0|1838878|\n",
      "|               1.0| 281335|\n",
      "|               2.0|  81285|\n",
      "|               3.0|  29539|\n",
      "|               4.0|  13179|\n",
      "|               5.0|   6599|\n",
      "|               6.0|   3717|\n",
      "|               7.0|   2062|\n",
      "|               8.0|   1223|\n",
      "|               9.0|    818|\n",
      "|              10.0|    556|\n",
      "|              11.0|    363|\n",
      "|              12.0|    264|\n",
      "|              13.0|    165|\n",
      "|              14.0|    120|\n",
      "|              15.0|     87|\n",
      "|              null|     63|\n",
      "|              16.0|     55|\n",
      "|              17.0|     30|\n",
      "|              18.0|     30|\n",
      "|              19.0|     23|\n",
      "|              20.0|     17|\n",
      "|              21.0|     12|\n",
      "|                CA|      8|\n",
      "|                TX|      6|\n",
      "|              22.0|      5|\n",
      "|    small_business|      5|\n",
      "|                IL|      5|\n",
      "|debt_consolidation|      5|\n",
      "|                FL|      4|\n",
      "|              24.0|      4|\n",
      "|             452xx|      3|\n",
      "|                NY|      3|\n",
      "|              26.0|      3|\n",
      "|                NJ|      3|\n",
      "|              30.0|      2|\n",
      "|             900xx|      2|\n",
      "|                MD|      2|\n",
      "|              25.0|      2|\n",
      "|             other|      2|\n",
      "+------------------+-------+\n",
      "only showing top 40 rows\n",
      "\n"
     ]
    }
   ],
   "source": [
    "spark.sql(\"select delinq_2yrs, count(*) as total from loan_defaulters group by delinq_2yrs order by total desc\").show(40)"
   ]
  },
  {
   "cell_type": "code",
   "execution_count": 8,
   "id": "f7f3ab45",
   "metadata": {},
   "outputs": [],
   "source": [
    "loan_defaulters_schema = \"member_id string, delinq_2yrs float, delinq_amnt float, pub_rec float, pub_rec_bankruptcies float,inq_last_6mths float, total_rec_late_fee float, mths_since_last_delinq float, mths_since_last_record float\""
   ]
  },
  {
   "cell_type": "code",
   "execution_count": 9,
   "id": "2d3ce79c",
   "metadata": {},
   "outputs": [],
   "source": [
    "loans_def_raw_df = spark.read \\\n",
    ".format(\"csv\") \\\n",
    ".option(\"header\",True) \\\n",
    ".schema(loan_defaulters_schema) \\\n",
    ".load(\"/public/trendytech/lendingclubproject/raw/loans_defaulters_csv\")"
   ]
  },
  {
   "cell_type": "code",
   "execution_count": 10,
   "id": "edc630e5",
   "metadata": {},
   "outputs": [],
   "source": [
    "loans_def_raw_df.createOrReplaceTempView(\"loan_defaulters\")"
   ]
  },
  {
   "cell_type": "code",
   "execution_count": 11,
   "id": "5507347c",
   "metadata": {},
   "outputs": [
    {
     "name": "stdout",
     "output_type": "stream",
     "text": [
      "+-----------+-------+\n",
      "|delinq_2yrs|  total|\n",
      "+-----------+-------+\n",
      "|        0.0|1838878|\n",
      "|        1.0| 281335|\n",
      "|        2.0|  81285|\n",
      "|        3.0|  29539|\n",
      "|        4.0|  13179|\n",
      "|        5.0|   6599|\n",
      "|        6.0|   3717|\n",
      "|        7.0|   2062|\n",
      "|        8.0|   1223|\n",
      "|        9.0|    818|\n",
      "|       10.0|    556|\n",
      "|       11.0|    363|\n",
      "|       12.0|    264|\n",
      "|       null|    261|\n",
      "|       13.0|    165|\n",
      "|       14.0|    120|\n",
      "|       15.0|     87|\n",
      "|       16.0|     55|\n",
      "|       17.0|     30|\n",
      "|       18.0|     30|\n",
      "|       19.0|     23|\n",
      "|       20.0|     17|\n",
      "|       21.0|     12|\n",
      "|       22.0|      5|\n",
      "|       24.0|      4|\n",
      "|       26.0|      3|\n",
      "|       30.0|      2|\n",
      "|       3.44|      2|\n",
      "|       23.0|      2|\n",
      "|       29.0|      2|\n",
      "|       25.0|      2|\n",
      "|       9.44|      1|\n",
      "|      10.58|      1|\n",
      "|      20.04|      1|\n",
      "|      26.24|      1|\n",
      "|       6.52|      1|\n",
      "|       27.0|      1|\n",
      "|      16.42|      1|\n",
      "|       1.41|      1|\n",
      "|       8.56|      1|\n",
      "+-----------+-------+\n",
      "only showing top 40 rows\n",
      "\n"
     ]
    }
   ],
   "source": [
    "spark.sql(\"select delinq_2yrs, count(*) as total from loan_defaulters group by delinq_2yrs order by total desc\").show(40)"
   ]
  },
  {
   "cell_type": "code",
   "execution_count": 12,
   "id": "eed5dd42",
   "metadata": {},
   "outputs": [],
   "source": [
    "from pyspark.sql.functions import col"
   ]
  },
  {
   "cell_type": "code",
   "execution_count": 13,
   "id": "d18979de",
   "metadata": {},
   "outputs": [],
   "source": [
    "loans_def_processed_df = loans_def_raw_df.withColumn(\"delinq_2yrs\", col(\"delinq_2yrs\").cast(\"integer\")).fillna(0, subset = [\"delinq_2yrs\"])"
   ]
  },
  {
   "cell_type": "code",
   "execution_count": 14,
   "id": "43752f40",
   "metadata": {},
   "outputs": [],
   "source": [
    "loans_def_processed_df.createOrReplaceTempView(\"loan_defaulters\")"
   ]
  },
  {
   "cell_type": "code",
   "execution_count": 15,
   "id": "91fa33c2",
   "metadata": {},
   "outputs": [
    {
     "data": {
      "text/html": [
       "<table border='1'>\n",
       "<tr><th>count(1)</th></tr>\n",
       "<tr><td>0</td></tr>\n",
       "</table>\n"
      ],
      "text/plain": [
       "+--------+\n",
       "|count(1)|\n",
       "+--------+\n",
       "|       0|\n",
       "+--------+"
      ]
     },
     "execution_count": 15,
     "metadata": {},
     "output_type": "execute_result"
    }
   ],
   "source": [
    "spark.sql(\"select count(*) from loan_defaulters where delinq_2yrs is null\")"
   ]
  },
  {
   "cell_type": "code",
   "execution_count": 16,
   "id": "719c6a9a",
   "metadata": {},
   "outputs": [
    {
     "name": "stdout",
     "output_type": "stream",
     "text": [
      "+-----------+-------+\n",
      "|delinq_2yrs|  total|\n",
      "+-----------+-------+\n",
      "|          0|1839141|\n",
      "|          1| 281337|\n",
      "|          2|  81285|\n",
      "|          3|  29545|\n",
      "|          4|  13180|\n",
      "|          5|   6601|\n",
      "|          6|   3719|\n",
      "|          7|   2063|\n",
      "|          8|   1226|\n",
      "|          9|    821|\n",
      "|         10|    558|\n",
      "|         11|    363|\n",
      "|         12|    266|\n",
      "|         13|    167|\n",
      "|         14|    123|\n",
      "|         15|     90|\n",
      "|         16|     56|\n",
      "|         17|     33|\n",
      "|         18|     32|\n",
      "|         19|     24|\n",
      "|         20|     19|\n",
      "|         21|     16|\n",
      "|         22|      7|\n",
      "|         24|      6|\n",
      "|         23|      5|\n",
      "|         26|      4|\n",
      "|         25|      2|\n",
      "|         30|      2|\n",
      "|         29|      2|\n",
      "|         27|      1|\n",
      "|         28|      1|\n",
      "|         58|      1|\n",
      "|         35|      1|\n",
      "|         42|      1|\n",
      "|         39|      1|\n",
      "|         32|      1|\n",
      "|         36|      1|\n",
      "+-----------+-------+\n",
      "\n"
     ]
    }
   ],
   "source": [
    "spark.sql(\"select delinq_2yrs, count(*) as total from loan_defaulters group by delinq_2yrs order by total desc\").show(40)"
   ]
  },
  {
   "cell_type": "code",
   "execution_count": 17,
   "id": "87ac2722",
   "metadata": {},
   "outputs": [],
   "source": [
    "loans_def_delinq_df = spark.sql(\"select member_id,delinq_2yrs, delinq_amnt, int(mths_since_last_delinq) from loan_defaulters where delinq_2yrs > 0 or mths_since_last_delinq > 0\")"
   ]
  },
  {
   "cell_type": "code",
   "execution_count": 18,
   "id": "4c119f19",
   "metadata": {},
   "outputs": [
    {
     "data": {
      "text/html": [
       "<table border='1'>\n",
       "<tr><th>member_id</th><th>delinq_2yrs</th><th>delinq_amnt</th><th>mths_since_last_delinq</th></tr>\n",
       "<tr><td>9cb79aa7323e81be1...</td><td>2</td><td>0.0</td><td>11</td></tr>\n",
       "<tr><td>aac68850fdac09fd0...</td><td>1</td><td>0.0</td><td>21</td></tr>\n",
       "<tr><td>c89986155a070db2e...</td><td>1</td><td>0.0</td><td>5</td></tr>\n",
       "<tr><td>6e8d94bf446e97025...</td><td>0</td><td>0.0</td><td>36</td></tr>\n",
       "<tr><td>42f73fd8a01f1c475...</td><td>0</td><td>0.0</td><td>46</td></tr>\n",
       "<tr><td>1eef79a0e79b72c7a...</td><td>1</td><td>0.0</td><td>21</td></tr>\n",
       "<tr><td>1dd1d1b51473d4993...</td><td>0</td><td>0.0</td><td>44</td></tr>\n",
       "<tr><td>ec1953dba2cfb89ad...</td><td>2</td><td>0.0</td><td>13</td></tr>\n",
       "<tr><td>8241a6bb3a9350fb8...</td><td>0</td><td>0.0</td><td>57</td></tr>\n",
       "<tr><td>cdc94fa1c29a6a70a...</td><td>0</td><td>0.0</td><td>44</td></tr>\n",
       "<tr><td>3712c9da85e54b7b1...</td><td>1</td><td>0.0</td><td>19</td></tr>\n",
       "<tr><td>6ebc82410b3dc9dcb...</td><td>0</td><td>0.0</td><td>43</td></tr>\n",
       "<tr><td>d25f6d6da5a92a401...</td><td>0</td><td>0.0</td><td>45</td></tr>\n",
       "<tr><td>657a760b1d52967fb...</td><td>0</td><td>0.0</td><td>36</td></tr>\n",
       "<tr><td>030e5c9c411c936c5...</td><td>2</td><td>0.0</td><td>6</td></tr>\n",
       "<tr><td>7fd6a504a6486e061...</td><td>0</td><td>0.0</td><td>45</td></tr>\n",
       "<tr><td>a67f439593858be7c...</td><td>0</td><td>0.0</td><td>28</td></tr>\n",
       "<tr><td>252736f8401b6b046...</td><td>2</td><td>0.0</td><td>5</td></tr>\n",
       "<tr><td>bf7c24ada32d968a6...</td><td>0</td><td>0.0</td><td>49</td></tr>\n",
       "<tr><td>a36b7198a8d922b0c...</td><td>0</td><td>0.0</td><td>75</td></tr>\n",
       "</table>\n",
       "only showing top 20 rows\n"
      ],
      "text/plain": [
       "+--------------------+-----------+-----------+----------------------+\n",
       "|           member_id|delinq_2yrs|delinq_amnt|mths_since_last_delinq|\n",
       "+--------------------+-----------+-----------+----------------------+\n",
       "|9cb79aa7323e81be1...|          2|        0.0|                    11|\n",
       "|aac68850fdac09fd0...|          1|        0.0|                    21|\n",
       "|c89986155a070db2e...|          1|        0.0|                     5|\n",
       "|6e8d94bf446e97025...|          0|        0.0|                    36|\n",
       "|42f73fd8a01f1c475...|          0|        0.0|                    46|\n",
       "|1eef79a0e79b72c7a...|          1|        0.0|                    21|\n",
       "|1dd1d1b51473d4993...|          0|        0.0|                    44|\n",
       "|ec1953dba2cfb89ad...|          2|        0.0|                    13|\n",
       "|8241a6bb3a9350fb8...|          0|        0.0|                    57|\n",
       "|cdc94fa1c29a6a70a...|          0|        0.0|                    44|\n",
       "|3712c9da85e54b7b1...|          1|        0.0|                    19|\n",
       "|6ebc82410b3dc9dcb...|          0|        0.0|                    43|\n",
       "|d25f6d6da5a92a401...|          0|        0.0|                    45|\n",
       "|657a760b1d52967fb...|          0|        0.0|                    36|\n",
       "|030e5c9c411c936c5...|          2|        0.0|                     6|\n",
       "|7fd6a504a6486e061...|          0|        0.0|                    45|\n",
       "|a67f439593858be7c...|          0|        0.0|                    28|\n",
       "|252736f8401b6b046...|          2|        0.0|                     5|\n",
       "|bf7c24ada32d968a6...|          0|        0.0|                    49|\n",
       "|a36b7198a8d922b0c...|          0|        0.0|                    75|\n",
       "+--------------------+-----------+-----------+----------------------+\n",
       "only showing top 20 rows"
      ]
     },
     "execution_count": 18,
     "metadata": {},
     "output_type": "execute_result"
    }
   ],
   "source": [
    "loans_def_delinq_df"
   ]
  },
  {
   "cell_type": "code",
   "execution_count": 19,
   "id": "3bd93c22",
   "metadata": {},
   "outputs": [
    {
     "data": {
      "text/plain": [
       "1106163"
      ]
     },
     "execution_count": 19,
     "metadata": {},
     "output_type": "execute_result"
    }
   ],
   "source": [
    "loans_def_delinq_df.count()"
   ]
  },
  {
   "cell_type": "code",
   "execution_count": 20,
   "id": "2c209825",
   "metadata": {},
   "outputs": [],
   "source": [
    "loans_def_records_enq_df = spark.sql(\"select member_id from loan_defaulters where pub_rec > 0.0 or pub_rec_bankruptcies > 0.0 or inq_last_6mths > 0.0\")"
   ]
  },
  {
   "cell_type": "code",
   "execution_count": 21,
   "id": "f6ed4a62",
   "metadata": {},
   "outputs": [
    {
     "data": {
      "text/html": [
       "<table border='1'>\n",
       "<tr><th>member_id</th></tr>\n",
       "<tr><td>0dd2bbc517e3c8f9e...</td></tr>\n",
       "<tr><td>458458599d3df3bfc...</td></tr>\n",
       "<tr><td>f1efcf7dfbfef21be...</td></tr>\n",
       "<tr><td>c89986155a070db2e...</td></tr>\n",
       "<tr><td>e88945f86a96f8d71...</td></tr>\n",
       "<tr><td>4e1c30a5dfe9f1e20...</td></tr>\n",
       "<tr><td>76cbefe31f7834f47...</td></tr>\n",
       "<tr><td>47d002f59a274c6f2...</td></tr>\n",
       "<tr><td>09a1c6855801dad88...</td></tr>\n",
       "<tr><td>56d4375718ad6940d...</td></tr>\n",
       "<tr><td>6ebc82410b3dc9dcb...</td></tr>\n",
       "<tr><td>41a307b3c2c66aad8...</td></tr>\n",
       "<tr><td>d168c599b8aea3c0b...</td></tr>\n",
       "<tr><td>657a760b1d52967fb...</td></tr>\n",
       "<tr><td>b7d9da217c8256cfd...</td></tr>\n",
       "<tr><td>a67f439593858be7c...</td></tr>\n",
       "<tr><td>3a4aac093cddcdb0c...</td></tr>\n",
       "<tr><td>23bb4e7a5ed15c1fc...</td></tr>\n",
       "<tr><td>0b55b1efb75760dc3...</td></tr>\n",
       "<tr><td>04eedd3c6357df852...</td></tr>\n",
       "</table>\n",
       "only showing top 20 rows\n"
      ],
      "text/plain": [
       "+--------------------+\n",
       "|           member_id|\n",
       "+--------------------+\n",
       "|0dd2bbc517e3c8f9e...|\n",
       "|458458599d3df3bfc...|\n",
       "|f1efcf7dfbfef21be...|\n",
       "|c89986155a070db2e...|\n",
       "|e88945f86a96f8d71...|\n",
       "|4e1c30a5dfe9f1e20...|\n",
       "|76cbefe31f7834f47...|\n",
       "|47d002f59a274c6f2...|\n",
       "|09a1c6855801dad88...|\n",
       "|56d4375718ad6940d...|\n",
       "|6ebc82410b3dc9dcb...|\n",
       "|41a307b3c2c66aad8...|\n",
       "|d168c599b8aea3c0b...|\n",
       "|657a760b1d52967fb...|\n",
       "|b7d9da217c8256cfd...|\n",
       "|a67f439593858be7c...|\n",
       "|3a4aac093cddcdb0c...|\n",
       "|23bb4e7a5ed15c1fc...|\n",
       "|0b55b1efb75760dc3...|\n",
       "|04eedd3c6357df852...|\n",
       "+--------------------+\n",
       "only showing top 20 rows"
      ]
     },
     "execution_count": 21,
     "metadata": {},
     "output_type": "execute_result"
    }
   ],
   "source": [
    "loans_def_records_enq_df"
   ]
  },
  {
   "cell_type": "code",
   "execution_count": 22,
   "id": "923c066a",
   "metadata": {},
   "outputs": [
    {
     "data": {
      "text/plain": [
       "1070125"
      ]
     },
     "execution_count": 22,
     "metadata": {},
     "output_type": "execute_result"
    }
   ],
   "source": [
    "loans_def_records_enq_df.count()"
   ]
  },
  {
   "cell_type": "code",
   "execution_count": 23,
   "id": "09c86acb",
   "metadata": {},
   "outputs": [
    {
     "ename": "IllegalArgumentException",
     "evalue": "Unknown save mode: noop. Accepted save modes are 'overwrite', 'append', 'ignore', 'error', 'errorifexists', 'default'.",
     "output_type": "error",
     "traceback": [
      "\u001b[0;31m---------------------------------------------------------------------------\u001b[0m",
      "\u001b[0;31mIllegalArgumentException\u001b[0m                  Traceback (most recent call last)",
      "\u001b[0;32m<ipython-input-23-e34883e7e852>\u001b[0m in \u001b[0;36m<module>\u001b[0;34m\u001b[0m\n\u001b[1;32m      2\u001b[0m \u001b[0;34m.\u001b[0m\u001b[0moption\u001b[0m\u001b[0;34m(\u001b[0m\u001b[0;34m\"header\"\u001b[0m\u001b[0;34m,\u001b[0m \u001b[0;32mTrue\u001b[0m\u001b[0;34m)\u001b[0m\u001b[0;31m \u001b[0m\u001b[0;31m\\\u001b[0m\u001b[0;34m\u001b[0m\u001b[0;34m\u001b[0m\u001b[0m\n\u001b[1;32m      3\u001b[0m \u001b[0;34m.\u001b[0m\u001b[0mformat\u001b[0m\u001b[0;34m(\u001b[0m\u001b[0;34m\"csv\"\u001b[0m\u001b[0;34m)\u001b[0m\u001b[0;31m \u001b[0m\u001b[0;31m\\\u001b[0m\u001b[0;34m\u001b[0m\u001b[0;34m\u001b[0m\u001b[0m\n\u001b[0;32m----> 4\u001b[0;31m \u001b[0;34m.\u001b[0m\u001b[0mmode\u001b[0m\u001b[0;34m(\u001b[0m\u001b[0;34m\"noop\"\u001b[0m\u001b[0;34m)\u001b[0m\u001b[0;31m \u001b[0m\u001b[0;31m\\\u001b[0m\u001b[0;34m\u001b[0m\u001b[0;34m\u001b[0m\u001b[0m\n\u001b[0m\u001b[1;32m      5\u001b[0m \u001b[0;34m.\u001b[0m\u001b[0moption\u001b[0m\u001b[0;34m(\u001b[0m\u001b[0;34m\"path\"\u001b[0m\u001b[0;34m,\u001b[0m \u001b[0;34m\"/user/itv009200/lendingclubproject/raw/cleaned/loans_defaulters_deling_csv\"\u001b[0m\u001b[0;34m)\u001b[0m\u001b[0;31m \u001b[0m\u001b[0;31m\\\u001b[0m\u001b[0;34m\u001b[0m\u001b[0;34m\u001b[0m\u001b[0m\n\u001b[1;32m      6\u001b[0m \u001b[0;34m.\u001b[0m\u001b[0msave\u001b[0m\u001b[0;34m(\u001b[0m\u001b[0;34m)\u001b[0m\u001b[0;34m\u001b[0m\u001b[0;34m\u001b[0m\u001b[0m\n",
      "\u001b[0;32m/opt/spark-3.1.2-bin-hadoop3.2/python/pyspark/sql/readwriter.py\u001b[0m in \u001b[0;36mmode\u001b[0;34m(self, saveMode)\u001b[0m\n\u001b[1;32m    908\u001b[0m         \u001b[0;31m# So, if the given saveMode is None, we will not call JVM-side's mode method.\u001b[0m\u001b[0;34m\u001b[0m\u001b[0;34m\u001b[0m\u001b[0;34m\u001b[0m\u001b[0m\n\u001b[1;32m    909\u001b[0m         \u001b[0;32mif\u001b[0m \u001b[0msaveMode\u001b[0m \u001b[0;32mis\u001b[0m \u001b[0;32mnot\u001b[0m \u001b[0;32mNone\u001b[0m\u001b[0;34m:\u001b[0m\u001b[0;34m\u001b[0m\u001b[0;34m\u001b[0m\u001b[0m\n\u001b[0;32m--> 910\u001b[0;31m             \u001b[0mself\u001b[0m\u001b[0;34m.\u001b[0m\u001b[0m_jwrite\u001b[0m \u001b[0;34m=\u001b[0m \u001b[0mself\u001b[0m\u001b[0;34m.\u001b[0m\u001b[0m_jwrite\u001b[0m\u001b[0;34m.\u001b[0m\u001b[0mmode\u001b[0m\u001b[0;34m(\u001b[0m\u001b[0msaveMode\u001b[0m\u001b[0;34m)\u001b[0m\u001b[0;34m\u001b[0m\u001b[0;34m\u001b[0m\u001b[0m\n\u001b[0m\u001b[1;32m    911\u001b[0m         \u001b[0;32mreturn\u001b[0m \u001b[0mself\u001b[0m\u001b[0;34m\u001b[0m\u001b[0;34m\u001b[0m\u001b[0m\n\u001b[1;32m    912\u001b[0m \u001b[0;34m\u001b[0m\u001b[0m\n",
      "\u001b[0;32m/opt/spark-3.1.2-bin-hadoop3.2/python/lib/py4j-0.10.9-src.zip/py4j/java_gateway.py\u001b[0m in \u001b[0;36m__call__\u001b[0;34m(self, *args)\u001b[0m\n\u001b[1;32m   1303\u001b[0m         \u001b[0manswer\u001b[0m \u001b[0;34m=\u001b[0m \u001b[0mself\u001b[0m\u001b[0;34m.\u001b[0m\u001b[0mgateway_client\u001b[0m\u001b[0;34m.\u001b[0m\u001b[0msend_command\u001b[0m\u001b[0;34m(\u001b[0m\u001b[0mcommand\u001b[0m\u001b[0;34m)\u001b[0m\u001b[0;34m\u001b[0m\u001b[0;34m\u001b[0m\u001b[0m\n\u001b[1;32m   1304\u001b[0m         return_value = get_return_value(\n\u001b[0;32m-> 1305\u001b[0;31m             answer, self.gateway_client, self.target_id, self.name)\n\u001b[0m\u001b[1;32m   1306\u001b[0m \u001b[0;34m\u001b[0m\u001b[0m\n\u001b[1;32m   1307\u001b[0m         \u001b[0;32mfor\u001b[0m \u001b[0mtemp_arg\u001b[0m \u001b[0;32min\u001b[0m \u001b[0mtemp_args\u001b[0m\u001b[0;34m:\u001b[0m\u001b[0;34m\u001b[0m\u001b[0;34m\u001b[0m\u001b[0m\n",
      "\u001b[0;32m/opt/spark-3.1.2-bin-hadoop3.2/python/pyspark/sql/utils.py\u001b[0m in \u001b[0;36mdeco\u001b[0;34m(*a, **kw)\u001b[0m\n\u001b[1;32m    115\u001b[0m                 \u001b[0;31m# Hide where the exception came from that shows a non-Pythonic\u001b[0m\u001b[0;34m\u001b[0m\u001b[0;34m\u001b[0m\u001b[0;34m\u001b[0m\u001b[0m\n\u001b[1;32m    116\u001b[0m                 \u001b[0;31m# JVM exception message.\u001b[0m\u001b[0;34m\u001b[0m\u001b[0;34m\u001b[0m\u001b[0;34m\u001b[0m\u001b[0m\n\u001b[0;32m--> 117\u001b[0;31m                 \u001b[0;32mraise\u001b[0m \u001b[0mconverted\u001b[0m \u001b[0;32mfrom\u001b[0m \u001b[0;32mNone\u001b[0m\u001b[0;34m\u001b[0m\u001b[0;34m\u001b[0m\u001b[0m\n\u001b[0m\u001b[1;32m    118\u001b[0m             \u001b[0;32melse\u001b[0m\u001b[0;34m:\u001b[0m\u001b[0;34m\u001b[0m\u001b[0;34m\u001b[0m\u001b[0m\n\u001b[1;32m    119\u001b[0m                 \u001b[0;32mraise\u001b[0m\u001b[0;34m\u001b[0m\u001b[0;34m\u001b[0m\u001b[0m\n",
      "\u001b[0;31mIllegalArgumentException\u001b[0m: Unknown save mode: noop. Accepted save modes are 'overwrite', 'append', 'ignore', 'error', 'errorifexists', 'default'."
     ]
    }
   ],
   "source": [
    "loans_def_delinq_df.write \\\n",
    ".option(\"header\", True) \\\n",
    ".format(\"csv\") \\\n",
    ".mode(\"noop\") \\\n",
    ".option(\"path\", \"/user/itv009200/lendingclubproject/raw/cleaned/loans_defaulters_deling_csv\") \\\n",
    ".save()"
   ]
  },
  {
   "cell_type": "code",
   "execution_count": null,
   "id": "678743c9",
   "metadata": {},
   "outputs": [],
   "source": [
    "loans_def_delinq_df.write \\\n",
    ".format(\"parquet\") \\\n",
    ".mode(\"noop\") \\\n",
    ".option(\"path\", \"/user/itv009200/lendingclubproject/raw/cleaned/loans_defaulters_deling_parquet\") \\\n",
    ".save()"
   ]
  },
  {
   "cell_type": "code",
   "execution_count": null,
   "id": "7b3da501",
   "metadata": {},
   "outputs": [],
   "source": [
    "loans_def_records_enq_df.write \\\n",
    ".option(\"header\", True) \\\n",
    ".format(\"csv\") \\\n",
    ".mode(\"noop\") \\\n",
    ".option(\"path\", \"/user/itv009200/lendingclubproject/raw/cleaned/loans_defaulters_records_enq_csv\") \\\n",
    ".save()"
   ]
  },
  {
   "cell_type": "code",
   "execution_count": null,
   "id": "de299acd",
   "metadata": {},
   "outputs": [],
   "source": [
    "loans_def_records_enq_df.write \\\n",
    ".format(\"parquet\") \\\n",
    ".mode(\"noop\") \\\n",
    ".option(\"path\", \"/user/itv009200/lendingclubproject/raw/cleaned/loans_defaulters_records_enq_parquet\") \\\n",
    ".save()"
   ]
  },
  {
   "cell_type": "code",
   "execution_count": 28,
   "id": "d31e8e66",
   "metadata": {},
   "outputs": [
    {
     "name": "stdout",
     "output_type": "stream",
     "text": [
      "+--------------------+-----------+-----------+----------------------+\n",
      "|           member_id|delinq_2yrs|delinq_amnt|mths_since_last_delinq|\n",
      "+--------------------+-----------+-----------+----------------------+\n",
      "|3070b114f6d455be5...|          0|        0.0|                    59|\n",
      "|c51de43b9017107d8...|          0|        0.0|                    25|\n",
      "|60472e24769fec41d...|          0|        0.0|                    46|\n",
      "|c4f4313c1ed6ba227...|          0|        0.0|                    39|\n",
      "|0fc014fe55a908f5f...|          1|        0.0|                    18|\n",
      "|70c6b3ca2b61e0965...|          0|        0.0|                    78|\n",
      "|8fa2ac7176194ad1d...|          1|        0.0|                    20|\n",
      "|bcebd3d53de868862...|          0|        0.0|                    30|\n",
      "|cbbb559fd0d49d915...|          0|        0.0|                    78|\n",
      "|c2bd40781ca2d7c80...|          1|        0.0|                    18|\n",
      "|a12ff9f5056f95a52...|          0|        0.0|                    70|\n",
      "|9f8728866abacbc16...|          0|        0.0|                    25|\n",
      "|0d1da6cd7af3a77ab...|          0|        0.0|                    26|\n",
      "|0c7b346ccfdeeefac...|          1|        0.0|                     1|\n",
      "|1d1db670f9caebdc0...|          1|        0.0|                    19|\n",
      "|7ea91daa3822e89e3...|          1|        0.0|                    12|\n",
      "|4e6ffca5e3a80a00c...|          0|        0.0|                    29|\n",
      "|2a224698e22e9d892...|          0|        0.0|                    71|\n",
      "|109bbdcc268d66488...|          0|        0.0|                    32|\n",
      "|a4cf78cb736573f58...|          0|        0.0|                    43|\n",
      "+--------------------+-----------+-----------+----------------------+\n",
      "only showing top 20 rows\n",
      "\n"
     ]
    }
   ],
   "source": [
    "loan_def = spark.read \\\n",
    ".format(\"csv\") \\\n",
    ".option(\"header\", True) \\\n",
    ".option(\"inferSchema\", True) \\\n",
    ".load(\"/user/itv009200/lendingclubproject/raw/cleaned/loans_defaulters_deling_csv\")\n",
    "loan_def.show()"
   ]
  },
  {
   "cell_type": "code",
   "execution_count": 29,
   "id": "301153f9",
   "metadata": {},
   "outputs": [
    {
     "name": "stdout",
     "output_type": "stream",
     "text": [
      "+--------------------+\n",
      "|           member_id|\n",
      "+--------------------+\n",
      "|3070b114f6d455be5...|\n",
      "|c4f4313c1ed6ba227...|\n",
      "|2347145dc13b95501...|\n",
      "|c81627bb4bec3a13c...|\n",
      "|cbbb559fd0d49d915...|\n",
      "|a12ff9f5056f95a52...|\n",
      "|d6b5a1f43d3f266a0...|\n",
      "|0d1da6cd7af3a77ab...|\n",
      "|f25d6f265fd31e756...|\n",
      "|1dd35220b4fbd5cae...|\n",
      "|cbcbfd723999eb6a0...|\n",
      "|7ea91daa3822e89e3...|\n",
      "|e15cd1a3316d88649...|\n",
      "|4e6ffca5e3a80a00c...|\n",
      "|207307daa4bd980a7...|\n",
      "|11b4716f6cd1bd673...|\n",
      "|109bbdcc268d66488...|\n",
      "|d4d083183d8389c85...|\n",
      "|48ee1a211fe63e4c3...|\n",
      "|52dea1e66984416c3...|\n",
      "+--------------------+\n",
      "only showing top 20 rows\n",
      "\n"
     ]
    }
   ],
   "source": [
    "loan_def2 = spark.read \\\n",
    ".format(\"csv\") \\\n",
    ".option(\"header\", True) \\\n",
    ".option(\"inferSchema\", True) \\\n",
    ".load(\"/user/itv009200/lendingclubproject/raw/cleaned/loans_defaulters_records_enq_csv\")\n",
    "loan_def2.show()"
   ]
  },
  {
   "cell_type": "code",
   "execution_count": 30,
   "id": "bc2bcc62",
   "metadata": {},
   "outputs": [
    {
     "name": "stdout",
     "output_type": "stream",
     "text": [
      "+--------------------+-----------+-----------+----------------------+\n",
      "|           member_id|delinq_2yrs|delinq_amnt|mths_since_last_delinq|\n",
      "+--------------------+-----------+-----------+----------------------+\n",
      "|3070b114f6d455be5...|          0|        0.0|                    59|\n",
      "|c51de43b9017107d8...|          0|        0.0|                    25|\n",
      "|60472e24769fec41d...|          0|        0.0|                    46|\n",
      "|c4f4313c1ed6ba227...|          0|        0.0|                    39|\n",
      "|0fc014fe55a908f5f...|          1|        0.0|                    18|\n",
      "|70c6b3ca2b61e0965...|          0|        0.0|                    78|\n",
      "|8fa2ac7176194ad1d...|          1|        0.0|                    20|\n",
      "|bcebd3d53de868862...|          0|        0.0|                    30|\n",
      "|cbbb559fd0d49d915...|          0|        0.0|                    78|\n",
      "|c2bd40781ca2d7c80...|          1|        0.0|                    18|\n",
      "|a12ff9f5056f95a52...|          0|        0.0|                    70|\n",
      "|9f8728866abacbc16...|          0|        0.0|                    25|\n",
      "|0d1da6cd7af3a77ab...|          0|        0.0|                    26|\n",
      "|0c7b346ccfdeeefac...|          1|        0.0|                     1|\n",
      "|1d1db670f9caebdc0...|          1|        0.0|                    19|\n",
      "|7ea91daa3822e89e3...|          1|        0.0|                    12|\n",
      "|4e6ffca5e3a80a00c...|          0|        0.0|                    29|\n",
      "|2a224698e22e9d892...|          0|        0.0|                    71|\n",
      "|109bbdcc268d66488...|          0|        0.0|                    32|\n",
      "|a4cf78cb736573f58...|          0|        0.0|                    43|\n",
      "+--------------------+-----------+-----------+----------------------+\n",
      "only showing top 20 rows\n",
      "\n"
     ]
    }
   ],
   "source": [
    "loan_par = spark.read \\\n",
    ".format(\"parquet\") \\\n",
    ".load(\"/user/itv009200/lendingclubproject/raw/cleaned/loans_defaulters_deling_parquet\")\n",
    "loan_par.show()"
   ]
  },
  {
   "cell_type": "code",
   "execution_count": 31,
   "id": "9392b70a",
   "metadata": {},
   "outputs": [
    {
     "name": "stdout",
     "output_type": "stream",
     "text": [
      "+--------------------+\n",
      "|           member_id|\n",
      "+--------------------+\n",
      "|3070b114f6d455be5...|\n",
      "|c4f4313c1ed6ba227...|\n",
      "|2347145dc13b95501...|\n",
      "|c81627bb4bec3a13c...|\n",
      "|cbbb559fd0d49d915...|\n",
      "|a12ff9f5056f95a52...|\n",
      "|d6b5a1f43d3f266a0...|\n",
      "|0d1da6cd7af3a77ab...|\n",
      "|f25d6f265fd31e756...|\n",
      "|1dd35220b4fbd5cae...|\n",
      "|cbcbfd723999eb6a0...|\n",
      "|7ea91daa3822e89e3...|\n",
      "|e15cd1a3316d88649...|\n",
      "|4e6ffca5e3a80a00c...|\n",
      "|207307daa4bd980a7...|\n",
      "|11b4716f6cd1bd673...|\n",
      "|109bbdcc268d66488...|\n",
      "|d4d083183d8389c85...|\n",
      "|48ee1a211fe63e4c3...|\n",
      "|52dea1e66984416c3...|\n",
      "+--------------------+\n",
      "only showing top 20 rows\n",
      "\n"
     ]
    }
   ],
   "source": [
    "loan_par3 = spark.read \\\n",
    ".format(\"parquet\") \\\n",
    ".load(\"/user/itv009200/lendingclubproject/raw/cleaned/loans_defaulters_records_enq_parquet\")\n",
    "loan_par3.show()"
   ]
  },
  {
   "cell_type": "code",
   "execution_count": null,
   "id": "6beb2eca",
   "metadata": {},
   "outputs": [],
   "source": [
    "spark.stop"
   ]
  }
 ],
 "metadata": {
  "kernelspec": {
   "display_name": "Pyspark 3",
   "language": "python",
   "name": "pyspark3"
  },
  "language_info": {
   "codemirror_mode": {
    "name": "ipython",
    "version": 3
   },
   "file_extension": ".py",
   "mimetype": "text/x-python",
   "name": "python",
   "nbconvert_exporter": "python",
   "pygments_lexer": "ipython3",
   "version": "3.6.12"
  }
 },
 "nbformat": 4,
 "nbformat_minor": 5
}
